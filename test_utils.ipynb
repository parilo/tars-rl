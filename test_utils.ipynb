{
 "cells": [
  {
   "cell_type": "markdown",
   "metadata": {},
   "source": [
    "# Imports"
   ]
  },
  {
   "cell_type": "code",
   "execution_count": 25,
   "metadata": {},
   "outputs": [],
   "source": [
    "import numpy as np\n",
    "import gym\n",
    "from osim.env import L2RunEnv\n",
    "from replay_buffer import *"
   ]
  },
  {
   "cell_type": "markdown",
   "metadata": {},
   "source": [
    "# Replay buffer"
   ]
  },
  {
   "cell_type": "code",
   "execution_count": 26,
   "metadata": {},
   "outputs": [],
   "source": [
    "class L2RubWrap:\n",
    "    \n",
    "    def __init__(self):\n",
    "        self.env = L2RunEnv(visualize=False)\n",
    "        \n",
    "    def reset(self):\n",
    "        return np.array(self.env.reset())\n",
    "    \n",
    "    def step(self, a):\n",
    "        next_obs, reward, done, _ = self.env.step(a)\n",
    "        return np.array(next_obs), reward, done, _"
   ]
  },
  {
   "cell_type": "code",
   "execution_count": 27,
   "metadata": {},
   "outputs": [
    {
     "name": "stdout",
     "output_type": "stream",
     "text": [
      "\u001b[33mWARN: gym.spaces.Box autodetected dtype as <class 'numpy.float32'>. Please provide explicit dtype.\u001b[0m\n",
      "\u001b[33mWARN: gym.spaces.Box autodetected dtype as <class 'numpy.float32'>. Please provide explicit dtype.\u001b[0m\n"
     ]
    }
   ],
   "source": [
    "env = L2RubWrap()"
   ]
  },
  {
   "cell_type": "code",
   "execution_count": 48,
   "metadata": {},
   "outputs": [],
   "source": [
    "sb = ServerBuffer(23, history_len=2, num_of_parts_in_obs=2)"
   ]
  },
  {
   "cell_type": "code",
   "execution_count": 49,
   "metadata": {},
   "outputs": [],
   "source": [
    "for j in range(3):\n",
    "    ab = AgentBuffer(13, history_len=3, num_of_parts_in_obs=2)\n",
    "    obs = env.reset()\n",
    "    #print (obs)\n",
    "    ab.push_init_observation([obs, np.random.random((5, 5))])\n",
    "    for i in range(10):\n",
    "        #action = 4*np.random.random(1)-2\n",
    "        action = np.random.uniform(0, 0.7, size=18)\n",
    "        next_obs, reward, done, _ = env.step(action)\n",
    "        trans = [[next_obs, np.random.random((5, 5))], action, reward, done]\n",
    "        ab.push_transition(trans)\n",
    "        if done: break\n",
    "    episode = ab.get_complete_episode()\n",
    "    sb.push_episode(episode)"
   ]
  },
  {
   "cell_type": "code",
   "execution_count": 50,
   "metadata": {},
   "outputs": [],
   "source": [
    "batch = sb.get_batch(3)"
   ]
  },
  {
   "cell_type": "code",
   "execution_count": 51,
   "metadata": {},
   "outputs": [
    {
     "data": {
      "text/plain": [
       "(3, 1, 41)"
      ]
     },
     "execution_count": 51,
     "metadata": {},
     "output_type": "execute_result"
    }
   ],
   "source": [
    "batch.s[0].shape"
   ]
  },
  {
   "cell_type": "code",
   "execution_count": 52,
   "metadata": {},
   "outputs": [],
   "source": [
    "for i in range(len(batch.s)):\n",
    "    shape = batch.s[i].shape\n",
    "    new_shape = (shape[0],)+(-1,)\n",
    "    batch.s[i] = batch.s[i].reshape(new_shape)"
   ]
  },
  {
   "cell_type": "code",
   "execution_count": 53,
   "metadata": {},
   "outputs": [
    {
     "data": {
      "text/plain": [
       "(3, 41)"
      ]
     },
     "execution_count": 53,
     "metadata": {},
     "output_type": "execute_result"
    }
   ],
   "source": [
    "batch.s[0].shape"
   ]
  },
  {
   "cell_type": "code",
   "execution_count": 7,
   "metadata": {},
   "outputs": [
    {
     "name": "stdout",
     "output_type": "stream",
     "text": [
      "Part 1 of the batch.s has shape:  (3, 2, 41)\n",
      "Part 2 of the batch.s has shape:  (3, 2, 5, 5)\n",
      "batch.a has shape:  (3, 18)\n",
      "batch.r has shape:  (3,)\n",
      "Part 1 of the batch.s_ has shape:  (3, 2, 41)\n",
      "Part 2 of the batch.s_ has shape:  (3, 2, 5, 5)\n",
      "batch.done has shape:  (3,)\n"
     ]
    }
   ],
   "source": [
    "for i in range(len(batch.s)):\n",
    "    print ('Part '+str(i+1) + ' of the batch.s has shape: ', batch.s[i].shape)\n",
    "print ('batch.a has shape: ', batch.a.shape)\n",
    "print ('batch.r has shape: ', batch.r.shape)\n",
    "for i in range(len(batch.s)):\n",
    "    print ('Part '+str(i+1) + ' of the batch.s_ has shape: ', batch.s_[i].shape)\n",
    "print ('batch.done has shape: ', batch.done.shape)"
   ]
  },
  {
   "cell_type": "markdown",
   "metadata": {},
   "source": [
    "# Data transmission between client and server"
   ]
  },
  {
   "cell_type": "code",
   "execution_count": 17,
   "metadata": {},
   "outputs": [],
   "source": [
    "import zlib\n",
    "import marshal\n",
    "\n",
    "# marshal is the fastest for serialization, sending and receiving data\n",
    "# also tested\n",
    "# - json\n",
    "# - pickle\n",
    "\n",
    "def serialize(object):\n",
    "    return zlib.compress(marshal.dumps(object, 2))\n",
    "\n",
    "def deserialize(bytes):\n",
    "    return marshal.loads(zlib.decompress(bytes))"
   ]
  },
  {
   "cell_type": "code",
   "execution_count": 18,
   "metadata": {},
   "outputs": [],
   "source": [
    "def obs_to_string(observations):\n",
    "    str_obs = []\n",
    "    for obs in observations:\n",
    "        str_obs.append(obs.reshape(-1).tostring())\n",
    "    return str_obs\n",
    "\n",
    "def episode_to_req(episode, method='store_exp_batch'):\n",
    "    observations, actions, rewards, dones = episode\n",
    "    str_obs = obs_to_string(observations)\n",
    "    str_act = actions.tolist()\n",
    "    str_rew = rewards.tolist()\n",
    "    str_don = dones.tolist()\n",
    "    req = serialize({'method':method, \n",
    "                     'observations':str_obs,\n",
    "                     'actions':str_act,\n",
    "                     'rewards':str_rew,\n",
    "                     'dones':str_don})\n",
    "    return req"
   ]
  },
  {
   "cell_type": "code",
   "execution_count": 19,
   "metadata": {},
   "outputs": [],
   "source": [
    "req = episode_to_req(episode)"
   ]
  },
  {
   "cell_type": "code",
   "execution_count": 20,
   "metadata": {},
   "outputs": [],
   "source": [
    "def string_to_obs(strings, obs_shapes):\n",
    "    obs_str = []\n",
    "    for i, str_ in enumerate(strings):\n",
    "        obs_str.append(np.frombuffer(str_, dtype=np.float32).reshape((-1,)+obs_shapes[i]))\n",
    "    return obs_str\n",
    "\n",
    "def req_to_episode(request, obs_shapes):\n",
    "    req = deserialize(request)\n",
    "    observations = string_to_obs(req['observations'], obs_shapes)\n",
    "    actions = np.array(req['actions'], dtype=np.float32)\n",
    "    rewards = np.array(req['rewards'], dtype=np.float32)\n",
    "    dones = np.array(req['dones'], dtype=np.bool)\n",
    "    return [observations, actions, rewards, dones]"
   ]
  },
  {
   "cell_type": "code",
   "execution_count": 21,
   "metadata": {},
   "outputs": [],
   "source": [
    "episode_restored = req_to_episode(req, obs_shapes=[(41,), (5,5)])"
   ]
  },
  {
   "cell_type": "code",
   "execution_count": 22,
   "metadata": {},
   "outputs": [
    {
     "name": "stdout",
     "output_type": "stream",
     "text": [
      "Part 1 of observations transmitted succesfully: True\n",
      "Part 2 of observations transmitted succesfully: True\n",
      "Actions transmitted succesfully: True\n",
      "Rewards transmitted succesfully: True\n",
      "Dones transmitted succesfully: True\n"
     ]
    }
   ],
   "source": [
    "for i in range(len(episode[0])):\n",
    "    check = np.all(episode[0][i]==episode_restored[0][i])\n",
    "    print ('Part '+str(i+1)+' of observations transmitted succesfully:', check)\n",
    "names = ['Actions', 'Rewards', 'Dones']\n",
    "for i in range(3):\n",
    "    check = np.all(episode[i+1]==episode_restored[i+1])\n",
    "    print (names[i]+' transmitted succesfully:', check)"
   ]
  },
  {
   "cell_type": "code",
   "execution_count": 23,
   "metadata": {},
   "outputs": [
    {
     "data": {
      "text/plain": [
       "array([False, False, False, False, False, False, False, False, False,\n",
       "       False])"
      ]
     },
     "execution_count": 23,
     "metadata": {},
     "output_type": "execute_result"
    }
   ],
   "source": [
    "episode[3]"
   ]
  },
  {
   "cell_type": "code",
   "execution_count": 24,
   "metadata": {},
   "outputs": [
    {
     "data": {
      "text/plain": [
       "array([False, False, False, False, False, False, False, False, False,\n",
       "       False])"
      ]
     },
     "execution_count": 24,
     "metadata": {},
     "output_type": "execute_result"
    }
   ],
   "source": [
    "episode_restored[3]"
   ]
  },
  {
   "cell_type": "code",
   "execution_count": null,
   "metadata": {},
   "outputs": [],
   "source": []
  }
 ],
 "metadata": {
  "kernelspec": {
   "display_name": "Python 3",
   "language": "python",
   "name": "python3"
  },
  "language_info": {
   "codemirror_mode": {
    "name": "ipython",
    "version": 3
   },
   "file_extension": ".py",
   "mimetype": "text/x-python",
   "name": "python",
   "nbconvert_exporter": "python",
   "pygments_lexer": "ipython3",
   "version": "3.6.1"
  }
 },
 "nbformat": 4,
 "nbformat_minor": 2
}
